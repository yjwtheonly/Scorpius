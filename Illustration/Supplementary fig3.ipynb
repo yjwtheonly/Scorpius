{
 "cells": [
  {
   "cell_type": "code",
   "execution_count": 1,
   "metadata": {},
   "outputs": [],
   "source": [
    "import sys\n",
    "from time import time\n",
    "from scipy import stats, sparse\n",
    "from scipy.sparse.linalg import svds, eigs\n",
    "from scipy.special import expit\n",
    "import numpy as np\n",
    "import os\n",
    "import math\n",
    "from sklearn.preprocessing import normalize\n",
    "from sklearn.manifold import TSNE\n",
    "from sklearn.metrics import precision_recall_curve\n",
    "from sklearn import metrics\n",
    "import collections\n",
    "import scipy\n",
    "from scipy.stats import norm as dist_model\n",
    "from sklearn import preprocessing\n",
    "from sklearn.preprocessing import OneHotEncoder\n",
    "from collections import Counter\n",
    "from sklearn.linear_model import LogisticRegression\n",
    "from sklearn.cross_decomposition import CCA\n",
    "import pandas as pd\n",
    "import matplotlib.ticker as mtick\n",
    "from matplotlib.colors import ListedColormap\n",
    "from collections import defaultdict\n",
    "import seaborn as sns\n",
    "from scipy.stats import gaussian_kde\n",
    "from matplotlib.lines import Line2D\n",
    "import matplotlib.gridspec as gridspec\n",
    "import pickle as pkl\n",
    "\n",
    "#from utils import *\n",
    "import matplotlib\n",
    "matplotlib.use('agg')\n",
    "import matplotlib.pyplot as plt\n",
    "import matplotlib.mlab as mlab\n",
    "from matplotlib import cm\n",
    "from matplotlib.ticker import FormatStrFormatter\n",
    "%matplotlib inline\n",
    "\n",
    "import matplotlib as mpl\n",
    "mpl.rcParams['pdf.fonttype'] = 42\n",
    "\n",
    "#Lemur 1 = Bernard (male); Lemur 2 = Stumpy (female); Lemur 3 = Martine (female); Lemur 4 = Antoine (male)\n",
    "MEDIUM_SIZE = 8\n",
    "SMALLER_SIZE = 6\n",
    "plt.rc('font', size=MEDIUM_SIZE)\n",
    "plt.rc('axes', labelsize=MEDIUM_SIZE)\n",
    "plt.rc('axes', titlesize=MEDIUM_SIZE)\t # fontsize of the axes title\n",
    "plt.rc('xtick', labelsize=SMALLER_SIZE)\t# fontsize of the tick labels\n",
    "plt.rc('ytick', labelsize=SMALLER_SIZE)\t# fontsize of the tick labels\n",
    "plt.rc('figure', titlesize=MEDIUM_SIZE)\n",
    "plt.rc('legend', fontsize=MEDIUM_SIZE)\n",
    "plt.rc('font', family='Helvetica')\n",
    "plt.rc('mathtext', default='regular')\n",
    "def format_ax(ax):\n",
    "    ax.spines['right'].set_visible(False)\n",
    "    ax.spines['top'].set_visible(False)\n",
    "FIG_HEIGHT = 2\n",
    "FIG_WIDTH = 2\n",
    "dname2keyword = {'muris_facs':'Muris FACS','muris_droplet':'Muris droplet','allen':'Allen',\n",
    "'microcebusAntoine':'Lemur 4','microcebusBernard':'Lemur 1','microcebusMartine':'Lemur 3','microcebusStumpy':'Lemur 2'}\n",
    "dname2keyword_raw = {'muris_facs':'Muris FACS','muris_droplet':'Muris droplet','allen':'Allen',\n",
    "'microcebusAntoine':'Lemur 4','microcebusBernard':'Lemur 1','microcebusMartine':'Lemur 3','microcebusStumpy':'Lemur 2'}\n",
    "for dname in dname2keyword_raw:\n",
    "    st = dname2keyword[dname]\n",
    "    dname2keyword[dname] = ''\n",
    "    for i in range(len('Muris droplet') - len(st)):\n",
    "        dname2keyword[dname] += ' '\n",
    "    dname2keyword[dname] += st\n",
    "dnames = ['muris_facs','muris_droplet','microcebusBernard','microcebusStumpy','microcebusMartine','microcebusAntoine']"
   ]
  },
  {
   "cell_type": "code",
   "execution_count": 3,
   "metadata": {},
   "outputs": [
    {
     "name": "stderr",
     "output_type": "stream",
     "text": [
      "findfont: Font family ['Helvetica'] not found. Falling back to DejaVu Sans.\n",
      "findfont: Font family ['Helvetica'] not found. Falling back to DejaVu Sans.\n"
     ]
    },
    {
     "data": {
      "image/png": "[encoded data removed]",
      "text/plain": [
       "<Figure size 288x288 with 1 Axes>"
      ]
     },
     "metadata": {
      "needs_background": "light"
     },
     "output_type": "display_data"
    }
   ],
   "source": [
    "def plot_line(x, y, std, lower, upper, color, label, linewidth=1.5, linestyle='-', marker=None, markersize=10, markeredgewidth=1, markeredgecolor='k', markerfacecolor='w', fig_suffix = 'None'):\n",
    "    fig,ax = plt.subplots(1,1,figsize=(FIG_WIDTH*2,FIG_HEIGHT*2))\n",
    "    ax.plot(x, y, color=color, \n",
    "            label=label, \n",
    "            linewidth=linewidth, \n",
    "            linestyle=linestyle, \n",
    "            marker=marker,\n",
    "            markersize=markersize, \n",
    "            markeredgewidth=markeredgewidth, \n",
    "            markeredgecolor=markeredgecolor, \n",
    "            markerfacecolor=markerfacecolor)\n",
    "    ax.plot(x, lower, color=color,\n",
    "            linewidth=linewidth / 2,\n",
    "            linestyle='dashed',\n",
    "            marker=marker,\n",
    "            markersize=markersize, \n",
    "            markeredgewidth=markeredgewidth, \n",
    "            markeredgecolor=markeredgecolor, \n",
    "            markerfacecolor=markerfacecolor,\n",
    "            alpha=0.5)\n",
    "    ax.plot(x, upper, color=color,\n",
    "            linewidth=linewidth / 2,\n",
    "            linestyle='dashed',\n",
    "            marker=marker,\n",
    "            markersize=markersize,\n",
    "            markeredgewidth=markeredgewidth,\n",
    "            markeredgecolor=markeredgecolor,\n",
    "            markerfacecolor=markerfacecolor,\n",
    "            alpha=0.5)\n",
    "    ax.fill_between(x, lower, upper, color=color, alpha=0.3)\n",
    "    ax.set_xlabel('Rewriting rate', fontsize = SMALLER_SIZE*2)\n",
    "    ax.set_ylabel('Ranking after poisoning', fontsize = SMALLER_SIZE*2)\n",
    "    ax.set_ylim([-0.1, 5.1])\n",
    "    ax.set_yticks([0, 1, 2, 3, 4, 5], [r'$10^{0}$',  r'$10^{1}$',  r'$10^{2}$', r'$10^{3}$', r'$10^{4}$', r'$10^{5}$'], fontsize = SMALLER_SIZE*1.5)\n",
    "    plt.xticks(fontsize = SMALLER_SIZE*1.5)\n",
    "    format_ax(ax)\n",
    "    y0,y1 = ax.get_ylim()\n",
    "    x0,x1 = ax.get_xlim()\n",
    "    ax.set_aspect(abs(x1-x0)/abs(y1-y0))\n",
    "    fig.tight_layout()\n",
    "    fig.savefig(f'fig/{fig_suffix}', dpi=300)\n",
    "with open('../DiseaseSpecific/check_extractor/bioBARTnotRandom_noise.pickle', 'rb') as fl:\n",
    "    bioBART = pkl.load(fl)\n",
    "with open('../DiseaseSpecific/check_extractor/initnotRandom.pickle', 'rb') as fl:\n",
    "    init = pkl.load(fl)\n",
    "real_init = init[1][0]\n",
    "real_init = real_init.reshape((1, 1, -1))\n",
    "bioBART = bioBART[0]\n",
    "bioBART = np.log10(bioBART)\n",
    "mean = np.mean(bioBART, axis=1)\n",
    "std = np.std(bioBART, axis=1)\n",
    "upper = mean + std\n",
    "lower = mean - std\n",
    "index = np.array([i / 100 for i in range(0, 100, 10)])\n",
    "plot_line(index, mean, std, lower, upper, '#35978f', 'Single', fig_suffix=f'Supplementary Figure 3.pdf')"
   ]
  }
 ],
 "metadata": {
  "kernelspec": {
   "display_name": "torch_transformers",
   "language": "python",
   "name": "python3"
  },
  "language_info": {
   "codemirror_mode": {
    "name": "ipython",
    "version": 3
   },
   "file_extension": ".py",
   "mimetype": "text/x-python",
   "name": "python",
   "nbconvert_exporter": "python",
   "pygments_lexer": "ipython3",
   "version": "3.8.12"
  },
  "orig_nbformat": 4,
  "vscode": {
   "interpreter": {
    "hash": "124d6acef8b0daa9436134edc7b70965a9cd79c4b07063143fa3c97af38a4673"
   }
  }
 },
 "nbformat": 4,
 "nbformat_minor": 2
}
